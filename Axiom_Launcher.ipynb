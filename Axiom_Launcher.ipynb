# Axiom Launcher – Full OS Init w/ Profile + Logging + Main Core Start

# Mount Google Drive (optional, for profile sync)
from google.colab import drive
drive.mount('/content/drive')

# Load core modules
import os, json, time
from datetime import datetime

# Load user profile JSON
PROFILE_PATH = "/content/drive/MyDrive/axiom_profile.json"
try:
    with open(PROFILE_PATH, "r") as f:
        user_profile = json.load(f)
    print(f"[PROFILE] Loaded user profile: {user_profile.get('name')}")
except Exception as e:
    print("[PROFILE] Failed to load. Using Guest profile.")
    user_profile = {"name": "Guest", "voice": "default", "task_mode": "passive"}

# Enable logging toggle
LOGGING_ENABLED = True
print(f"[LOGGING] Status: {'ENABLED' if LOGGING_ENABLED else 'DISABLED'}")

# Clone GitHub repo
!git clone https://github.com/jeffreysiergiej/AxiomCoreEngine
%cd AxiomCoreEngine

# Install requirements
!pip install -r requirements.txt || echo "No requirements.txt found."

# Import and run the main system
from main import main
main()

# Start logging loop (if enabled)
if LOGGING_ENABLED:
    from auto_commit_logger import start_commit_loop
    start_commit_loop(interval=1800)  # 30-minute loop
