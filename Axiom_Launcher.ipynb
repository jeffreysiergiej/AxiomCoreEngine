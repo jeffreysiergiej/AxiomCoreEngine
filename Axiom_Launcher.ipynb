# Axiom Launcher - Full OS Init w/ Profile + Logging

# Mount Google Drive (optional, for profile sync)
from google.colab import drive
drive.mount('/content/drive')

# Load core modules
import os, json, time

# Load user profile JSON
PROFILE_PATH = "/content/drive/MyDrive/axiom_user_profile.json"
try:
  with open(PROFILE_PATH, "r") as f:
    user_profile = json.load(f)
  print("[PROFILE] Loaded user profile.")
except Exception as e:
  print("[PROFILE] Failed to load. Using default config.")
  user_profile = {"name": "Guest", "voice": "default", "ckm": "none"}

# Clone GitHub repo
!git clone https://github.com/jeffreysiergiej/AxiomCoreEngine.git
%cd AxiomCoreEngine

# Install requirements
!pip install -r requirements.txt

# Logging toggles (optional control layer)
LOG_HEALTH = True
LOG_GENESIS = True

# Start Genesis AI daemon
if LOG_GENESIS:
  print("[GENESIS] Launching Genesis AI daemon...")
  from genesis_ai import genesis_daemon
  genesis_daemon()

# Start core engine
print(f"[BOOT] Welcome, {user_profile['name']} — launching AxiomCoreEngine...")
!python3 main.py

# Optional: system health tracking + auto commit loop
if LOG_HEALTH:
  print("[MONITOR] Activating health logger + sync loop...")
  !python3 system_health_logger.py
  !python3 auto_commit_logger.py
